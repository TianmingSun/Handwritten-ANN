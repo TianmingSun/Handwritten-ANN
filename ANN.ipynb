{
 "cells": [
  {
   "cell_type": "markdown",
   "metadata": {},
   "source": [
    "# Handwritten Artificial Neural Network\n",
    "> Example on MNIST dataset."
   ]
  },
  {
   "cell_type": "code",
   "execution_count": 1,
   "metadata": {
    "scrolled": true
   },
   "outputs": [],
   "source": [
    "import numpy as np\n",
    "from matplotlib import pyplot\n",
    "import MNISTtools"
   ]
  },
  {
   "cell_type": "markdown",
   "metadata": {},
   "source": [
    "* Load MNIST data"
   ]
  },
  {
   "cell_type": "code",
   "execution_count": 2,
   "metadata": {},
   "outputs": [
    {
     "name": "stdout",
     "output_type": "stream",
     "text": [
      "The size of trainning set is 60000\n",
      "The feature dimension is 784.\n",
      "The shape of input images is (784, 60000) and the shape of labels is (60000,).\n"
     ]
    }
   ],
   "source": [
    "xtrain, ltrain = MNISTtools.load(dataset=\"training\")\n",
    "xtest, ltest = MNISTtools.load(dataset=\"testing\")\n",
    "print(f'The size of trainning set is {xtrain.shape[1]}')\n",
    "print(f'The feature dimension is {xtrain.shape[0]}.')\n",
    "print(f'The shape of input images is {xtrain.shape} and the shape of labels is {ltrain.shape}.')"
   ]
  },
  {
   "cell_type": "markdown",
   "metadata": {},
   "source": [
    "* Normalize input data\n",
    "* Translate labels to fit into the network"
   ]
  },
  {
   "cell_type": "code",
   "execution_count": 3,
   "metadata": {},
   "outputs": [
    {
     "name": "stdout",
     "output_type": "stream",
     "text": [
      "The shape of the one-hot codes is (10, 60000).\n"
     ]
    }
   ],
   "source": [
    "def normalize_MNIST_images(x):\n",
    "    x = x.astype(np.float32)\n",
    "    MAX = np.max(x)\n",
    "    MIN = np.min(x)\n",
    "    x = - 1 + 2 * ( x - MIN) / ( MAX - MIN)\n",
    "    return x\n",
    "\n",
    "def onehot2label(d):\n",
    "    lbl = d.argmax(axis=0)\n",
    "    return lbl\n",
    "\n",
    "def label2onehot(lbl):\n",
    "    d = np.zeros((lbl.max() + 1, lbl.size))\n",
    "    d[[ind for ind in lbl], np.arange(lbl.size)] = 1\n",
    "    return d\n",
    "\n",
    "xtrain = normalize_MNIST_images(xtrain)\n",
    "xtest = normalize_MNIST_images(xtest)\n",
    "dtrain = label2onehot(ltrain)\n",
    "dtest = label2onehot(ltest)\n",
    "print('The shape of the one-hot codes is {}.'.format(np.shape(dtrain)))"
   ]
  },
  {
   "cell_type": "markdown",
   "metadata": {},
   "source": [
    "* Define Softmax and ReLu function\n",
    "* Define Loss Metric"
   ]
  },
  {
   "cell_type": "code",
   "execution_count": 4,
   "metadata": {},
   "outputs": [],
   "source": [
    "def softmax(a):\n",
    "    d = np.exp(a - a.max(axis=0))\n",
    "    return d / np.sum(d,axis=0)\n",
    "\n",
    "def softmaxp(a, e):\n",
    "    g = softmax(a)\n",
    "    return g * e - np.sum(g * e, axis=0) * g\n",
    "\n",
    "def relu(a):\n",
    "    return np.maximum(a,0)\n",
    "    \n",
    "def relup(a, e):\n",
    "    return (a > 0) * 1 * e\n",
    "\n",
    "def eval_loss(y, d):\n",
    "    return np.sum( -d * np.log(y)) / y.size\n",
    "\n",
    "def eval_perfs(y, lbl):\n",
    "    dlbl = label2onehot(lbl)\n",
    "    pred = np.max( y * dlbl, axis=0)\n",
    "    comp = np.max( y, axis=0)\n",
    "    return np.sum(pred != comp) / np.size(lbl)"
   ]
  },
  {
   "cell_type": "markdown",
   "metadata": {},
   "source": [
    "* Structure network\n",
    "> Using He and Xavier initializations  \n",
    "ReLu as activity function"
   ]
  },
  {
   "cell_type": "code",
   "execution_count": 5,
   "metadata": {},
   "outputs": [],
   "source": [
    "def init_fc(dim_in, dim_out, internal=[512]):\n",
    "    layer = len(internal)+1\n",
    "    internal.insert(0, dim_in)\n",
    "    internal.append(dim_out)\n",
    "    W = []\n",
    "    b = []\n",
    "    for i in range(layer):\n",
    "        W_add = np.random.randn(internal[i+1], internal[i]) / np.sqrt((internal[i]+1.)/2.)\n",
    "        b_add = np.random.randn(internal[i+1], 1) / np.sqrt((internal[i]+1.)/2.)\n",
    "        W.append(W_add)\n",
    "        b.append(b_add)\n",
    "    return W,b\n",
    "\n",
    "def forward(x, W, b):\n",
    "    layer = len(W)\n",
    "    h = x\n",
    "    cache = []\n",
    "    for i in range(layer):\n",
    "        a = W[i] @ h + b[i]\n",
    "        cache.append(a)\n",
    "        h = relu(a)\n",
    "    y = softmax(cache[-1])\n",
    "    return y,cache\n",
    "\n",
    "def backward(x, d, W, b, gamma=.05):\n",
    "    layer = len(W)\n",
    "    gamma = gamma / x.shape[1] # normalized by the training dataset size\n",
    "    y,cache = forward(x, W, b)\n",
    "    # Error evaluation\n",
    "    e = -d / y\n",
    "    # Backward phase\n",
    "    delta = [softmaxp(cache[-1], e)]\n",
    "    for i in range(layer-1,0,-1):\n",
    "        add = relup(cache[i-1], W[i].T @ delta[-1])\n",
    "        delta.append(add)\n",
    "    delta = delta[::-1]\n",
    "    # Gradient update\n",
    "    W[0] = W[0] - gamma * delta[0] @ x.T\n",
    "    b[0] = b[0] - gamma * delta[0].sum( axis=1, keepdims=True)\n",
    "    for i in range(1,layer):\n",
    "        W[i] = W[i] - gamma * delta[i] @ cache[i-1].T\n",
    "        b[i] = b[i] - gamma * delta[i].sum( axis=1, keepdims=True)\n",
    "    return W,b"
   ]
  },
  {
   "cell_type": "markdown",
   "metadata": {},
   "source": [
    "* Train the network for MNIST classification\n",
    "> Using batches"
   ]
  },
  {
   "cell_type": "code",
   "execution_count": 6,
   "metadata": {},
   "outputs": [],
   "source": [
    "def backprop_batch(x, d, v, d_v, W, b, T=10, B=100, gamma=.05):\n",
    "    N = x.shape[1]\n",
    "    NB = int((N+B-1)/B)\n",
    "    lbl = onehot2label(d)\n",
    "    lbl_v = onehot2label(d_v)\n",
    "    loss = []\n",
    "    perfs = []\n",
    "    val = []\n",
    "    for t in range(T):\n",
    "        print(t+1,T)\n",
    "        shuffled_indices = np.random.permutation(range(N))\n",
    "        for k in range(NB):\n",
    "            batch_indices = shuffled_indices[B*k:min(B*(k+1), N)]\n",
    "            W,b = backward(x[:,batch_indices], d[:,batch_indices], W, b, gamma)\n",
    "            \n",
    "        y,_ = forward(x, W, b)\n",
    "        y_v,_ = forward(v, W, b)\n",
    "        loss.append(eval_loss(y,d))\n",
    "        perfs.append(eval_perfs(y,lbl))\n",
    "        val.append(eval_perfs(y_v,lbl_v))\n",
    "        \n",
    "    print (\"Final Loss:\", loss[-1])\n",
    "    print (f'Final Percentage of Training Errors: {100*perfs[-1]:.2f} %')\n",
    "    axis_x = np.arange(1,len(loss)+1)\n",
    "    pyplot.subplot(5,1,1)\n",
    "    pyplot.plot(axis_x,loss)\n",
    "    pyplot.title('Loss')\n",
    "    pyplot.show\n",
    "    pyplot.subplot(5,1,3)\n",
    "    pyplot.plot(axis_x,perfs)\n",
    "    pyplot.title('Perfs')\n",
    "    pyplot.show\n",
    "    pyplot.subplot(5,1,5)\n",
    "    pyplot.plot(axis_x,val)\n",
    "    pyplot.title('Val')\n",
    "    pyplot.show\n",
    "    return W,b"
   ]
  },
  {
   "cell_type": "code",
   "execution_count": 7,
   "metadata": {
    "scrolled": false
   },
   "outputs": [
    {
     "name": "stdout",
     "output_type": "stream",
     "text": [
      "1 30\n",
      "2 30\n",
      "3 30\n",
      "4 30\n",
      "5 30\n",
      "6 30\n",
      "7 30\n",
      "8 30\n",
      "9 30\n",
      "10 30\n",
      "11 30\n",
      "12 30\n",
      "13 30\n",
      "14 30\n",
      "15 30\n",
      "16 30\n",
      "17 30\n",
      "18 30\n",
      "19 30\n",
      "20 30\n",
      "21 30\n",
      "22 30\n",
      "23 30\n",
      "24 30\n",
      "25 30\n",
      "26 30\n",
      "27 30\n",
      "28 30\n",
      "29 30\n",
      "30 30\n",
      "Final Loss: 2.4314342196037217e-05\n",
      "Final Percentage of Training Errors: 0.00 %\n"
     ]
    },
    {
     "data": {
      "image/png": "[encoded data removed]",
      "text/plain": [
       "<Figure size 432x288 with 3 Axes>"
      ]
     },
     "metadata": {
      "needs_background": "light"
     },
     "output_type": "display_data"
    }
   ],
   "source": [
    "dim_in = xtrain.shape[0]\n",
    "internal = [512,256,128,64,32]\n",
    "dim_out = dtrain.shape[0]\n",
    "W,b = init_fc(dim_in, dim_out, internal)\n",
    "W,b = backprop_batch(xtrain, dtrain, xtest, dtest, W, b, T=30, B=100, gamma=.05)"
   ]
  },
  {
   "cell_type": "code",
   "execution_count": 8,
   "metadata": {},
   "outputs": [
    {
     "data": {
      "image/png": "[encoded data removed]",
      "text/plain": [
       "<Figure size 432x288 with 1 Axes>"
      ]
     },
     "metadata": {
      "needs_background": "light"
     },
     "output_type": "display_data"
    },
    {
     "name": "stdout",
     "output_type": "stream",
     "text": [
      "The prediction is: 2\n"
     ]
    },
    {
     "data": {
      "image/png": "[encoded data removed]",
      "text/plain": [
       "<Figure size 432x288 with 1 Axes>"
      ]
     },
     "metadata": {
      "needs_background": "light"
     },
     "output_type": "display_data"
    },
    {
     "name": "stdout",
     "output_type": "stream",
     "text": [
      "The prediction is: 8\n"
     ]
    },
    {
     "data": {
      "image/png": "[encoded data removed]",
      "text/plain": [
       "<Figure size 432x288 with 1 Axes>"
      ]
     },
     "metadata": {
      "needs_background": "light"
     },
     "output_type": "display_data"
    },
    {
     "name": "stdout",
     "output_type": "stream",
     "text": [
      "The prediction is: 3\n"
     ]
    },
    {
     "data": {
      "image/png": "[encoded data removed]",
      "text/plain": [
       "<Figure size 432x288 with 1 Axes>"
      ]
     },
     "metadata": {
      "needs_background": "light"
     },
     "output_type": "display_data"
    },
    {
     "name": "stdout",
     "output_type": "stream",
     "text": [
      "The prediction is: 8\n"
     ]
    },
    {
     "data": {
      "image/png": "[encoded data removed]",
      "text/plain": [
       "<Figure size 432x288 with 1 Axes>"
      ]
     },
     "metadata": {
      "needs_background": "light"
     },
     "output_type": "display_data"
    },
    {
     "name": "stdout",
     "output_type": "stream",
     "text": [
      "The prediction is: 2\n"
     ]
    }
   ],
   "source": [
    "indcies = range(400,405)\n",
    "image=xtest[:, indcies]\n",
    "d,_ = forward(image,W,b)\n",
    "lb = onehot2label(d)\n",
    "for i,ind in enumerate(indcies):\n",
    "    MNISTtools.show(xtest[:, ind])\n",
    "    print('The prediction is:', lb[i])"
   ]
  }
 ],
 "metadata": {
  "kernelspec": {
   "display_name": "Python 3",
   "language": "python",
   "name": "python3"
  },
  "language_info": {
   "codemirror_mode": {
    "name": "ipython",
    "version": 3
   },
   "file_extension": ".py",
   "mimetype": "text/x-python",
   "name": "python",
   "nbconvert_exporter": "python",
   "pygments_lexer": "ipython3",
   "version": "3.7.3"
  }
 },
 "nbformat": 4,
 "nbformat_minor": 2
}
